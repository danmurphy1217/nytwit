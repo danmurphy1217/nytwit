{
 "cells": [
  {
   "cell_type": "code",
   "execution_count": 2,
   "metadata": {},
   "outputs": [],
   "source": [
    "%%capture\n",
    "import nltk\n",
    "import pandas as pd\n",
    "import numpy as np\n",
    "import matplotlib.pyplot as plt\n",
    "!pip3 install seaborn\n",
    "import string"
   ]
  },
  {
   "cell_type": "code",
   "execution_count": 3,
   "metadata": {},
   "outputs": [],
   "source": [
    "import seaborn as sns"
   ]
  },
  {
   "cell_type": "markdown",
   "metadata": {},
   "source": [
    "# Load, Inspect, and Clean Both DF's"
   ]
  },
  {
   "cell_type": "code",
   "execution_count": 4,
   "metadata": {},
   "outputs": [],
   "source": [
    "data = pd.read_pickle('../Data/stories') # read in data from pickle\n",
    "story_df = pd.DataFrame(data) # create df of stories from pickled data\n",
    "raw_df = pd.DataFrame(pd.read_csv(\"../nytwit_v1-1.tsv\", sep='\\t')) # core df we will concat story data to\n"
   ]
  },
  {
   "cell_type": "code",
   "execution_count": 5,
   "metadata": {},
   "outputs": [],
   "source": [
    "raw_df_filtered = raw_df.drop(raw_df.loc[raw_df['URL'].values == 'not found'].index, axis = 0) # drop rows where URL is not found\n"
   ]
  },
  {
   "cell_type": "code",
   "execution_count": 6,
   "metadata": {},
   "outputs": [
    {
     "data": {
      "text/html": [
       "<div>\n",
       "<style scoped>\n",
       "    .dataframe tbody tr th:only-of-type {\n",
       "        vertical-align: middle;\n",
       "    }\n",
       "\n",
       "    .dataframe tbody tr th {\n",
       "        vertical-align: top;\n",
       "    }\n",
       "\n",
       "    .dataframe thead th {\n",
       "        text-align: right;\n",
       "    }\n",
       "</style>\n",
       "<table border=\"1\" class=\"dataframe\">\n",
       "  <thead>\n",
       "    <tr style=\"text-align: right;\">\n",
       "      <th></th>\n",
       "      <th>Story_Examples</th>\n",
       "    </tr>\n",
       "  </thead>\n",
       "  <tbody>\n",
       "    <tr>\n",
       "      <th>0</th>\n",
       "      <td>“How much does it cost ” I asked Hirota We wer...</td>\n",
       "    </tr>\n",
       "    <tr>\n",
       "      <th>1</th>\n",
       "      <td>“How much does it cost ” I asked Hirota We wer...</td>\n",
       "    </tr>\n",
       "    <tr>\n",
       "      <th>2</th>\n",
       "      <td>“How much does it cost ” I asked Hirota We wer...</td>\n",
       "    </tr>\n",
       "    <tr>\n",
       "      <th>3</th>\n",
       "      <td>Last month  an Access Hollywood correspondent ...</td>\n",
       "    </tr>\n",
       "    <tr>\n",
       "      <th>4</th>\n",
       "      <td>CANYON DE CHELLY  Ariz  — A sliver moon dangle...</td>\n",
       "    </tr>\n",
       "  </tbody>\n",
       "</table>\n",
       "</div>"
      ],
      "text/plain": [
       "                                      Story_Examples\n",
       "0  “How much does it cost ” I asked Hirota We wer...\n",
       "1  “How much does it cost ” I asked Hirota We wer...\n",
       "2  “How much does it cost ” I asked Hirota We wer...\n",
       "3  Last month  an Access Hollywood correspondent ...\n",
       "4  CANYON DE CHELLY  Ariz  — A sliver moon dangle..."
      ]
     },
     "execution_count": 6,
     "metadata": {},
     "output_type": "execute_result"
    }
   ],
   "source": [
    "story_df = story_df.rename(columns={\n",
    "    0:\"Story_Examples\"\n",
    "})\n",
    "story_df.head()"
   ]
  },
  {
   "cell_type": "markdown",
   "metadata": {},
   "source": [
    "### Clean up the Story DF"
   ]
  },
  {
   "cell_type": "code",
   "execution_count": 7,
   "metadata": {},
   "outputs": [],
   "source": [
    "story_df.reset_index(drop=True, inplace=True)\n",
    "\n",
    "def remove_punctuation(text):\n",
    "    no_punct = \"\".join([w for w in text if w not in string.punctuation])\n",
    "    return no_punct\n",
    "\n",
    "story_df['Story_Examples'] = story_df['Story_Examples'].apply(lambda x: remove_punctuation(x)) # remove punctuation from sentences"
   ]
  },
  {
   "cell_type": "code",
   "execution_count": 8,
   "metadata": {},
   "outputs": [
    {
     "data": {
      "text/html": [
       "<div>\n",
       "<style scoped>\n",
       "    .dataframe tbody tr th:only-of-type {\n",
       "        vertical-align: middle;\n",
       "    }\n",
       "\n",
       "    .dataframe tbody tr th {\n",
       "        vertical-align: top;\n",
       "    }\n",
       "\n",
       "    .dataframe thead th {\n",
       "        text-align: right;\n",
       "    }\n",
       "</style>\n",
       "<table border=\"1\" class=\"dataframe\">\n",
       "  <thead>\n",
       "    <tr style=\"text-align: right;\">\n",
       "      <th></th>\n",
       "      <th>Story_Examples</th>\n",
       "    </tr>\n",
       "  </thead>\n",
       "  <tbody>\n",
       "    <tr>\n",
       "      <th>0</th>\n",
       "      <td>“How much does it cost ” I asked Hirota We wer...</td>\n",
       "    </tr>\n",
       "    <tr>\n",
       "      <th>1</th>\n",
       "      <td>“How much does it cost ” I asked Hirota We wer...</td>\n",
       "    </tr>\n",
       "    <tr>\n",
       "      <th>2</th>\n",
       "      <td>“How much does it cost ” I asked Hirota We wer...</td>\n",
       "    </tr>\n",
       "    <tr>\n",
       "      <th>3</th>\n",
       "      <td>Last month  an Access Hollywood correspondent ...</td>\n",
       "    </tr>\n",
       "    <tr>\n",
       "      <th>4</th>\n",
       "      <td>CANYON DE CHELLY  Ariz  — A sliver moon dangle...</td>\n",
       "    </tr>\n",
       "    <tr>\n",
       "      <th>5</th>\n",
       "      <td>THE PURLOINING OF PRINCE OLEOMARGARINE By Mark...</td>\n",
       "    </tr>\n",
       "    <tr>\n",
       "      <th>6</th>\n",
       "      <td>THE PURLOINING OF PRINCE OLEOMARGARINE By Mark...</td>\n",
       "    </tr>\n",
       "    <tr>\n",
       "      <th>7</th>\n",
       "      <td>Tom UttechThrough Nov  25 Alexandre Gallery  7...</td>\n",
       "    </tr>\n",
       "    <tr>\n",
       "      <th>8</th>\n",
       "      <td>It is surely one of New York’s grandest sights...</td>\n",
       "    </tr>\n",
       "    <tr>\n",
       "      <th>9</th>\n",
       "      <td>It is surely one of New York’s grandest sights...</td>\n",
       "    </tr>\n",
       "  </tbody>\n",
       "</table>\n",
       "</div>"
      ],
      "text/plain": [
       "                                      Story_Examples\n",
       "0  “How much does it cost ” I asked Hirota We wer...\n",
       "1  “How much does it cost ” I asked Hirota We wer...\n",
       "2  “How much does it cost ” I asked Hirota We wer...\n",
       "3  Last month  an Access Hollywood correspondent ...\n",
       "4  CANYON DE CHELLY  Ariz  — A sliver moon dangle...\n",
       "5  THE PURLOINING OF PRINCE OLEOMARGARINE By Mark...\n",
       "6  THE PURLOINING OF PRINCE OLEOMARGARINE By Mark...\n",
       "7  Tom UttechThrough Nov  25 Alexandre Gallery  7...\n",
       "8  It is surely one of New York’s grandest sights...\n",
       "9  It is surely one of New York’s grandest sights..."
      ]
     },
     "execution_count": 8,
     "metadata": {},
     "output_type": "execute_result"
    }
   ],
   "source": [
    "story_df.head(10) "
   ]
  },
  {
   "cell_type": "markdown",
   "metadata": {},
   "source": [
    "### Clean up the NYTwit DF"
   ]
  },
  {
   "cell_type": "code",
   "execution_count": 9,
   "metadata": {},
   "outputs": [
    {
     "data": {
      "text/html": [
       "<div>\n",
       "<style scoped>\n",
       "    .dataframe tbody tr th:only-of-type {\n",
       "        vertical-align: middle;\n",
       "    }\n",
       "\n",
       "    .dataframe tbody tr th {\n",
       "        vertical-align: top;\n",
       "    }\n",
       "\n",
       "    .dataframe thead th {\n",
       "        text-align: right;\n",
       "    }\n",
       "</style>\n",
       "<table border=\"1\" class=\"dataframe\">\n",
       "  <thead>\n",
       "    <tr style=\"text-align: right;\">\n",
       "      <th></th>\n",
       "      <th>Time</th>\n",
       "      <th>Word</th>\n",
       "      <th>Category</th>\n",
       "      <th>URL</th>\n",
       "    </tr>\n",
       "  </thead>\n",
       "  <tbody>\n",
       "    <tr>\n",
       "      <th>0</th>\n",
       "      <td>Tue Nov 07 19:12:11 2017</td>\n",
       "      <td>ujigami</td>\n",
       "      <td>filtered</td>\n",
       "      <td>https://www.nytimes.com/2017/11/07/travel/shri...</td>\n",
       "    </tr>\n",
       "    <tr>\n",
       "      <th>1</th>\n",
       "      <td>Tue Nov 07 19:12:15 2017</td>\n",
       "      <td>ganbarro</td>\n",
       "      <td>filtered</td>\n",
       "      <td>https://www.nytimes.com/2017/11/07/travel/shri...</td>\n",
       "    </tr>\n",
       "    <tr>\n",
       "      <th>2</th>\n",
       "      <td>Tue Nov 07 19:12:25 2017</td>\n",
       "      <td>yamahoko</td>\n",
       "      <td>filtered</td>\n",
       "      <td>https://www.nytimes.com/2017/11/07/travel/shri...</td>\n",
       "    </tr>\n",
       "    <tr>\n",
       "      <th>3</th>\n",
       "      <td>Wed Nov 08 10:01:04 2017</td>\n",
       "      <td>rememed</td>\n",
       "      <td>affix</td>\n",
       "      <td>https://www.nytimes.com/2017/11/08/opinion/ang...</td>\n",
       "    </tr>\n",
       "    <tr>\n",
       "      <th>4</th>\n",
       "      <td>Wed Nov 08 11:01:14 2017</td>\n",
       "      <td>andpinyon</td>\n",
       "      <td>filtered</td>\n",
       "      <td>https://www.nytimes.com/2017/11/08/sports/nava...</td>\n",
       "    </tr>\n",
       "  </tbody>\n",
       "</table>\n",
       "</div>"
      ],
      "text/plain": [
       "                       Time       Word  Category  \\\n",
       "0  Tue Nov 07 19:12:11 2017    ujigami  filtered   \n",
       "1  Tue Nov 07 19:12:15 2017   ganbarro  filtered   \n",
       "2  Tue Nov 07 19:12:25 2017   yamahoko  filtered   \n",
       "3  Wed Nov 08 10:01:04 2017    rememed     affix   \n",
       "4  Wed Nov 08 11:01:14 2017  andpinyon  filtered   \n",
       "\n",
       "                                                 URL  \n",
       "0  https://www.nytimes.com/2017/11/07/travel/shri...  \n",
       "1  https://www.nytimes.com/2017/11/07/travel/shri...  \n",
       "2  https://www.nytimes.com/2017/11/07/travel/shri...  \n",
       "3  https://www.nytimes.com/2017/11/08/opinion/ang...  \n",
       "4  https://www.nytimes.com/2017/11/08/sports/nava...  "
      ]
     },
     "execution_count": 9,
     "metadata": {},
     "output_type": "execute_result"
    }
   ],
   "source": [
    "raw_df_filtered.reset_index(drop=True, inplace=True)\n",
    "raw_df_filtered.head()"
   ]
  },
  {
   "cell_type": "markdown",
   "metadata": {},
   "source": [
    "### Concat dataframes, perform final inspections of the data"
   ]
  },
  {
   "cell_type": "code",
   "execution_count": 139,
   "metadata": {},
   "outputs": [],
   "source": [
    "df = pd.concat([raw_df_filtered, story_df], axis =1)"
   ]
  },
  {
   "cell_type": "code",
   "execution_count": 140,
   "metadata": {},
   "outputs": [
    {
     "data": {
      "text/plain": [
       "Index(['Time', 'Word', 'Category', 'URL', 'Story_Examples'], dtype='object')"
      ]
     },
     "execution_count": 140,
     "metadata": {},
     "output_type": "execute_result"
    }
   ],
   "source": [
    "df.columns = df.columns.str.replace(' ', '_')\n",
    "df.columns"
   ]
  },
  {
   "cell_type": "code",
   "execution_count": 141,
   "metadata": {},
   "outputs": [],
   "source": [
    "df = df.drop(df.loc[df['Story_Examples'] == ''].index, axis = 0) # drop rows with no stories , i.e. the URL did not work or the stories are no longer public\n",
    "df.reset_index(drop=True, inplace=True)\n"
   ]
  },
  {
   "cell_type": "code",
   "execution_count": 142,
   "metadata": {},
   "outputs": [
    {
     "data": {
      "text/plain": [
       "0       “How much does it cost ” I asked Hirota We wer...\n",
       "1       “How much does it cost ” I asked Hirota We wer...\n",
       "2       “How much does it cost ” I asked Hirota We wer...\n",
       "3       Last month  an Access Hollywood correspondent ...\n",
       "4       CANYON DE CHELLY  Ariz  — A sliver moon dangle...\n",
       "                              ...                        \n",
       "2577    LOS ANGELES — Even before she turned 17 in Dec...\n",
       "2578    LOS ANGELES — Even before she turned 17 in Dec...\n",
       "2579    ImageCredit   Till Lauer A newsletter for pare...\n",
       "2580    Great horror writing is more than cheap scares...\n",
       "2581    There they are  the racks of meat on skewers a...\n",
       "Name: Story_Examples, Length: 2582, dtype: object"
      ]
     },
     "execution_count": 142,
     "metadata": {},
     "output_type": "execute_result"
    }
   ],
   "source": [
    "df.Story_Examples # area for improvement: some scraped stories included parts of titles"
   ]
  },
  {
   "cell_type": "markdown",
   "metadata": {},
   "source": [
    "### Number of NA's"
   ]
  },
  {
   "cell_type": "code",
   "execution_count": 204,
   "metadata": {},
   "outputs": [
    {
     "data": {
      "text/plain": [
       "0"
      ]
     },
     "execution_count": 204,
     "metadata": {},
     "output_type": "execute_result"
    }
   ],
   "source": [
    "sum(pd.isna(df.Story_Examples))"
   ]
  },
  {
   "cell_type": "markdown",
   "metadata": {},
   "source": [
    "# Calculate Summary Stats of stories in Story_Examples"
   ]
  },
  {
   "cell_type": "code",
   "execution_count": 205,
   "metadata": {},
   "outputs": [],
   "source": [
    "cleaned_stories = [nltk.word_tokenize(str(story).replace('—', '').replace('’', '').replace('”', '').replace('“', '').replace(\",\", '').replace(\"(\", '').replace(\")\", \"\")) for story in df.Story_Examples]\n",
    "# list of each story tokenized & cleaned"
   ]
  },
  {
   "cell_type": "code",
   "execution_count": 206,
   "metadata": {},
   "outputs": [
    {
     "name": "stdout",
     "output_type": "stream",
     "text": [
      "IQR is 668.25\n",
      "MAX is 12253\n",
      "MIN is 82\n",
      "Q1 is 860.25\n",
      "Q3 is 1528.5\n",
      "Min Outlier Threshold is -142.125\n",
      "Max Outlier Threshold is 2530.875\n",
      "8.71% of the story lengths are outliers.\n"
     ]
    }
   ],
   "source": [
    "story_lengths_all = [len(story) for story in cleaned_stories] # lengths for every story\n",
    "max_min_difference = abs(np.min(story_lengths_all) - np.max(story_lengths_all))\n",
    "\n",
    "#5-number summary\n",
    "min_ = np.min(story_lengths_all)\n",
    "q1 = np.quantile(a = story_lengths_all, q = .25)\n",
    "q2 = np.quantile(a = story_lengths_all, q = .5)\n",
    "q3 = np.quantile(a = story_lengths_all, q = .75)\n",
    "max_ = np.max(story_lengths_all)\n",
    "#basic stats\n",
    "iqr = q3 - q1\n",
    "\n",
    "max_non_outlier = q3 + 1.5*iqr # max threshold\n",
    "min_non_outlier = q1 - 1.5*iqr # min threshold\n",
    "\n",
    "# subsets of data\n",
    "outlier_story_lengths = [length for length in story_lengths_all if (length > max_non_outlier) | (length < min_non_outlier)]\n",
    "remove_extremities = [val for val in story_lengths_all if val < 4000]\n",
    "\n",
    "\n",
    "print(\"IQR is {}\".format(iqr))\n",
    "print(\"MAX is {}\".format(max_))\n",
    "print(\"MIN is {}\".format(min_))\n",
    "print(\"Q1 is {}\".format(q1))\n",
    "print(\"Q3 is {}\".format(q3))\n",
    "print(\"Min Outlier Threshold is {}\".format(min_non_outlier))\n",
    "print(\"Max Outlier Threshold is {}\".format(max_non_outlier))\n",
    "print(str(round((len(outlier_story_lengths)/len(story_lengths_all))*100, 2)) + \"% of the story lengths are outliers.\") # % of dataset that is an outlier...\n"
   ]
  },
  {
   "cell_type": "code",
   "execution_count": 207,
   "metadata": {},
   "outputs": [
    {
     "data": {
      "text/plain": [
       "[[]]"
      ]
     },
     "execution_count": 207,
     "metadata": {},
     "output_type": "execute_result"
    },
    {
     "data": {
      "image/png": "[encoded data removed]",
      "text/plain": [
       "<Figure size 720x504 with 4 Axes>"
      ]
     },
     "metadata": {
      "needs_background": "light"
     },
     "output_type": "display_data"
    }
   ],
   "source": [
    "# set up figure\n",
    "fig, [[ax1, ax2], [ax3, ax4]] = plt.subplots(2, 2)\n",
    "fig.set_figheight(7)\n",
    "fig.set_figwidth(10)\n",
    "plt.subplots_adjust(wspace = .25, hspace=.25)\n",
    "\n",
    "#subplot 0,0\n",
    "ax1.title.set_text(\"Boxplot With Outliers\")\n",
    "ax1.set_xlabel(\"NYT Stories\")\n",
    "ax1.set_ylabel(\"Story Lengths\")\n",
    "plot1 = sns.boxplot(data = story_lengths_all, color=sns.set_palette(\"Dark2\"), ax=ax1)\n",
    "plot1.set(xticklabels=[])\n",
    "\n",
    "\n",
    "#subplot 0,1\n",
    "ax2.title.set_text(\"Boxplot Without 'Extreme' Outliers\")\n",
    "ax2.set_xlabel(\"NYT Stories\")\n",
    "ax2.set_ylabel(\"Story Lengths\")\n",
    "plot2 =sns.boxplot(data = remove_extremities, ax=ax2) \n",
    "plot2.set(xticklabels=[])\n",
    "\n",
    "#subplot 1, 0\n",
    "ax3.title.set_text(\"Boxplot without Outliers\")\n",
    "ax3.set_xlabel(\"NYT Stories\")\n",
    "ax3.set_ylabel(\"Story Lengths\")\n",
    "plot3 = sns.boxplot(data = [length for length in story_lengths_all if ((length>= min_non_outlier) & (length <= max_non_outlier))], ax = ax3)\n",
    "plot3.set(xticklabels=[])\n",
    "\n",
    "#subplot 1, 1\n",
    "ax4.title.set_text(\"Boxplot w/ Subsample b/w Q1 and Q3\")\n",
    "ax4.set_xlabel(\"NYT Stories\")\n",
    "ax4.set_ylabel(\"Story Lengths\")\n",
    "plot4 = sns.boxplot(data = [length for length in story_lengths_all if ((length>=q1) & (length <= q3))], ax = ax4)\n",
    "plot4.set(xticklabels=[])"
   ]
  },
  {
   "cell_type": "markdown",
   "metadata": {},
   "source": [
    "# Empirical CDF to show us what % of the data lies below a certain sentence length "
   ]
  },
  {
   "cell_type": "code",
   "execution_count": 208,
   "metadata": {},
   "outputs": [
    {
     "data": {
      "text/plain": [
       "Text(0, 0.5, '% of stories')"
      ]
     },
     "execution_count": 208,
     "metadata": {},
     "output_type": "execute_result"
    },
    {
     "data": {
      "image/png": "[encoded data removed]",
      "text/plain": [
       "<Figure size 432x288 with 1 Axes>"
      ]
     },
     "metadata": {
      "needs_background": "light"
     },
     "output_type": "display_data"
    }
   ],
   "source": [
    "plt.plot(np.sort(story_lengths_all), np.linspace(0, 1, len(story_lengths_all)))\n",
    "plt.fill_between(np.sort(story_lengths_all), np.linspace(0, 1, len(story_lengths_all)), facecolor='lightgray')\n",
    "plt.xlabel(\"Story Length\")\n",
    "plt.ylabel(\"% of stories\")"
   ]
  },
  {
   "cell_type": "markdown",
   "metadata": {},
   "source": [
    " roughly 90% of our story lengths fall below 2000 words. "
   ]
  },
  {
   "cell_type": "markdown",
   "metadata": {},
   "source": [
    "## To Do: \n",
    "\n",
    "### 1. Create an array of stories, story lengths, and words that are within the IQR\n",
    "### 2. Calculate the TF and IDF for those words using the tf and idf functions."
   ]
  },
  {
   "cell_type": "code",
   "execution_count": 210,
   "metadata": {},
   "outputs": [],
   "source": [
    "iqr_stories = [] # store stories with lengths within the IQR\n",
    "iqr_indices = [] # store indices of words with story lengths within the IQR\n",
    "count = 0\n",
    "for story in cleaned_stories:\n",
    "    count += 1\n",
    "    if (len(story) >= q1) & (len(story) <= q3):\n",
    "        joined_story = \" \".join(story)\n",
    "        iqr_indices.append(count)\n",
    "        iqr_stories.append(joined_story)"
   ]
  },
  {
   "cell_type": "code",
   "execution_count": 211,
   "metadata": {},
   "outputs": [
    {
     "data": {
      "text/plain": [
       "1290"
      ]
     },
     "execution_count": 211,
     "metadata": {},
     "output_type": "execute_result"
    }
   ],
   "source": [
    "iqr_story_lengths = [len(story) for story in cleaned_stories if (len(story) >= q1) & (len(story) <= q3)] # lengths for stories between q1 and q3\n",
    "len(q1_to_q3_story_lengths)"
   ]
  },
  {
   "cell_type": "code",
   "execution_count": 212,
   "metadata": {},
   "outputs": [
    {
     "data": {
      "text/plain": [
       "1290"
      ]
     },
     "execution_count": 212,
     "metadata": {},
     "output_type": "execute_result"
    }
   ],
   "source": [
    "iqr_words = [df['Word'].iloc[iqr_indices[i] -1] for i in range(len(iqr_indices))] # list of words within q1 to q3\n",
    "len(iqr_words)"
   ]
  },
  {
   "cell_type": "code",
   "execution_count": 213,
   "metadata": {},
   "outputs": [
    {
     "data": {
      "text/plain": [
       "['underdramatic', 'hyperhysteria', 'verbolect', 'fluffypoos', 'shaggydoodles']"
      ]
     },
     "execution_count": 213,
     "metadata": {},
     "output_type": "execute_result"
    }
   ],
   "source": [
    "iqr_words[:5]"
   ]
  },
  {
   "cell_type": "code",
   "execution_count": 214,
   "metadata": {},
   "outputs": [
    {
     "data": {
      "text/plain": [
       "[1243, 1243, 1239, 1152, 1152]"
      ]
     },
     "execution_count": 214,
     "metadata": {},
     "output_type": "execute_result"
    }
   ],
   "source": [
    "iqr_story_lengths[:5]"
   ]
  },
  {
   "cell_type": "code",
   "execution_count": 215,
   "metadata": {},
   "outputs": [
    {
     "data": {
      "text/plain": [
       "[6, 7, 8, 9, 10]"
      ]
     },
     "execution_count": 215,
     "metadata": {},
     "output_type": "execute_result"
    }
   ],
   "source": [
    "iqr_indices[:5]"
   ]
  },
  {
   "cell_type": "code",
   "execution_count": 216,
   "metadata": {},
   "outputs": [
    {
     "data": {
      "text/plain": [
       "True"
      ]
     },
     "execution_count": 216,
     "metadata": {},
     "output_type": "execute_result"
    }
   ],
   "source": [
    "len(iqr_stories) == len(iqr_indices) == len(iqr_story_lengths) == len(iqr_words)"
   ]
  },
  {
   "cell_type": "markdown",
   "metadata": {},
   "source": [
    "# Term Frequency"
   ]
  },
  {
   "cell_type": "markdown",
   "metadata": {},
   "source": [
    "$$tf(t, d) = \\frac{count\\space of\\space t\\space in\\space d}{number\\space of\\space words\\space in\\space d}$$"
   ]
  },
  {
   "cell_type": "markdown",
   "metadata": {},
   "source": [
    "### For this calculation, I will weight all parts of the document the same. This is because our 'document' is defined as the body of the article"
   ]
  },
  {
   "cell_type": "markdown",
   "metadata": {},
   "source": [
    "Note: Cleaning the text was a challenge, and some titles have squared through the cleaning process. This is the main area\n",
    "to improve on moving forward"
   ]
  },
  {
   "cell_type": "markdown",
   "metadata": {},
   "source": [
    "### Example for First Word"
   ]
  },
  {
   "cell_type": "code",
   "execution_count": 217,
   "metadata": {},
   "outputs": [
    {
     "data": {
      "text/html": [
       "<div>\n",
       "<style scoped>\n",
       "    .dataframe tbody tr th:only-of-type {\n",
       "        vertical-align: middle;\n",
       "    }\n",
       "\n",
       "    .dataframe tbody tr th {\n",
       "        vertical-align: top;\n",
       "    }\n",
       "\n",
       "    .dataframe thead th {\n",
       "        text-align: right;\n",
       "    }\n",
       "</style>\n",
       "<table border=\"1\" class=\"dataframe\">\n",
       "  <thead>\n",
       "    <tr style=\"text-align: right;\">\n",
       "      <th></th>\n",
       "      <th>Time</th>\n",
       "      <th>Word</th>\n",
       "      <th>Category</th>\n",
       "      <th>URL</th>\n",
       "      <th>Story_Examples</th>\n",
       "    </tr>\n",
       "  </thead>\n",
       "  <tbody>\n",
       "    <tr>\n",
       "      <th>0</th>\n",
       "      <td>Tue Nov 07 19:12:11 2017</td>\n",
       "      <td>ujigami</td>\n",
       "      <td>filtered</td>\n",
       "      <td>https://www.nytimes.com/2017/11/07/travel/shri...</td>\n",
       "      <td>“How much does it cost ” I asked Hirota We wer...</td>\n",
       "    </tr>\n",
       "  </tbody>\n",
       "</table>\n",
       "</div>"
      ],
      "text/plain": [
       "                       Time     Word  Category  \\\n",
       "0  Tue Nov 07 19:12:11 2017  ujigami  filtered   \n",
       "\n",
       "                                                 URL  \\\n",
       "0  https://www.nytimes.com/2017/11/07/travel/shri...   \n",
       "\n",
       "                                      Story_Examples  \n",
       "0  “How much does it cost ” I asked Hirota We wer...  "
      ]
     },
     "execution_count": 217,
     "metadata": {},
     "output_type": "execute_result"
    }
   ],
   "source": [
    "df.head(1)"
   ]
  },
  {
   "cell_type": "markdown",
   "metadata": {},
   "source": [
    "$$tf(ujigami, \"How\\space much\\space does\\space it...\") = \\frac{count\\space of\\space ujigami\\space in\\space \"How\\space much\\space does\\space it...\"}{number\\space of\\space words\\space in\\space \"How\\space much\\space does\\space it...\"}$$\n",
    "\n"
   ]
  },
  {
   "cell_type": "code",
   "execution_count": 232,
   "metadata": {},
   "outputs": [],
   "source": [
    "def FreqDist(t, d):\n",
    "    \"\"\"\n",
    "    @params: t, list of terms and d, list of documents\n",
    "    @returns the frequency of a word in a document\n",
    "    \"\"\"\n",
    "    frequency_tracker = []\n",
    "    for i in range(len(t)):\n",
    "        count = 0\n",
    "        for w in nltk.word_tokenize(d[i]): # for word in story (tokenized)\n",
    "            if w == t[i]: # if word == term\n",
    "                count += 1\n",
    "        frequency_tracker.append(count)\n",
    "    return frequency_tracker"
   ]
  },
  {
   "cell_type": "code",
   "execution_count": 234,
   "metadata": {},
   "outputs": [
    {
     "data": {
      "text/plain": [
       "[1, 1, 2, 1, 1, 1, 0, 1, 4, 1]"
      ]
     },
     "execution_count": 234,
     "metadata": {},
     "output_type": "execute_result"
    }
   ],
   "source": [
    "FreqDist(iqr_words[:10], iqr_stories[:10])"
   ]
  },
  {
   "cell_type": "code",
   "execution_count": 252,
   "metadata": {},
   "outputs": [],
   "source": [
    "term_frequencies = np.divide((FreqDist(iqr_words, iqr_stories)), ([length for length in iqr_story_lengths]))"
   ]
  },
  {
   "cell_type": "code",
   "execution_count": 253,
   "metadata": {},
   "outputs": [],
   "source": [
    "term_frequencies_rounded = [np.round(tf, 5) for tf in term_frequencies]"
   ]
  },
  {
   "cell_type": "code",
   "execution_count": 254,
   "metadata": {},
   "outputs": [
    {
     "data": {
      "text/plain": [
       "[0.0008,\n",
       " 0.0008,\n",
       " 0.00161,\n",
       " 0.00087,\n",
       " 0.00087,\n",
       " 0.00084,\n",
       " 0.0,\n",
       " 0.00087,\n",
       " 0.00362,\n",
       " 0.00089]"
      ]
     },
     "execution_count": 254,
     "metadata": {},
     "output_type": "execute_result"
    }
   ],
   "source": [
    "term_frequencies_rounded[:10]"
   ]
  },
  {
   "cell_type": "markdown",
   "metadata": {},
   "source": [
    "### With TF, the length of the document can be dominated by words such as 'and,' 'had,' and other fillers. This can skew the TF and provide us with invaluable information.\n",
    "\n",
    "### TF-IDF will 'regularize' our documents \n",
    "(think of regularization in SVM where large ranges of #'s that aren't normalized can skew the decision boundary, so we scale the axes). This helps hold constant the effect of filler words."
   ]
  },
  {
   "cell_type": "markdown",
   "metadata": {},
   "source": [
    "# TF-IDF now"
   ]
  },
  {
   "cell_type": "markdown",
   "metadata": {},
   "source": [
    "### 1. Create list of all words across all stories\n",
    "\n",
    "This is more efficient to search through"
   ]
  },
  {
   "cell_type": "code",
   "execution_count": 263,
   "metadata": {},
   "outputs": [],
   "source": [
    "join_each_story = [] # join each story together\n",
    "\n",
    "string_to_search = \" \".join(str(w) for w in iqr_stories) # list of all story words to search through\n"
   ]
  },
  {
   "cell_type": "markdown",
   "metadata": {},
   "source": [
    "### 2. Perform Document Frequency Calculation\n"
   ]
  },
  {
   "cell_type": "code",
   "execution_count": 282,
   "metadata": {},
   "outputs": [],
   "source": [
    "df_tracker = []\n",
    "for i in range(len(iqr_stories)):\n",
    "    count = 0\n",
    "    word = iqr_words[i]\n",
    "    for story in iqr_stories:\n",
    "        if word in story: # count number of times the word occurs in a story\n",
    "            count += 1\n",
    "    df_tracker.append(count) # append that count to the tracker"
   ]
  },
  {
   "cell_type": "markdown",
   "metadata": {},
   "source": [
    "### Perform IDF Calculation"
   ]
  },
  {
   "cell_type": "markdown",
   "metadata": {},
   "source": [
    "$$IDF(t) = \\frac{N}{df + 1}$$"
   ]
  },
  {
   "cell_type": "markdown",
   "metadata": {},
   "source": [
    "N is the number of documents, add one to denominator to avoid division by 0"
   ]
  },
  {
   "cell_type": "code",
   "execution_count": 303,
   "metadata": {},
   "outputs": [],
   "source": [
    "import math\n",
    "def idf(d):\n",
    "    idf_tracker = []\n",
    "    for i in range(len(d)):\n",
    "         idf_tracker.append(len(d)/(df_tracker[i] + 1))\n",
    "    return idf_tracker"
   ]
  },
  {
   "cell_type": "code",
   "execution_count": 304,
   "metadata": {},
   "outputs": [],
   "source": [
    "idf_list = list(idf(iqr_stories))"
   ]
  },
  {
   "cell_type": "code",
   "execution_count": 305,
   "metadata": {},
   "outputs": [
    {
     "data": {
      "text/plain": [
       "[430.0, 430.0, 645.0, 430.0, 430.0, 645.0, 1290.0, 645.0, 645.0, 430.0]"
      ]
     },
     "execution_count": 305,
     "metadata": {},
     "output_type": "execute_result"
    }
   ],
   "source": [
    "idf_list[:10]"
   ]
  },
  {
   "cell_type": "markdown",
   "metadata": {},
   "source": [
    "# 4. Calculate log-idf (smoothing the freq):\n",
    "use math.log10() to calculate the log of the idf <br>"
   ]
  },
  {
   "cell_type": "markdown",
   "metadata": {},
   "source": [
    "$$\\log{IDF(t)} = \\log{\\frac{N}{df+1}}$$"
   ]
  },
  {
   "cell_type": "code",
   "execution_count": 306,
   "metadata": {},
   "outputs": [
    {
     "data": {
      "text/plain": [
       "[6.06379,\n",
       " 6.06379,\n",
       " 6.46925,\n",
       " 6.06379,\n",
       " 6.06379,\n",
       " 6.46925,\n",
       " 7.1624,\n",
       " 6.46925,\n",
       " 6.46925,\n",
       " 6.06379]"
      ]
     },
     "execution_count": 306,
     "metadata": {},
     "output_type": "execute_result"
    }
   ],
   "source": [
    "import math\n",
    "log_idf_list = [np.round(math.log(idf),5) for idf in idf_list]\n",
    "log_idf_list[:10]"
   ]
  },
  {
   "cell_type": "markdown",
   "metadata": {},
   "source": [
    "# 5. Calculate tf-idf\n",
    "$$ tf-idf = tf(t, d) * log(\\frac{N}{df+1}) = \\textrm{term_frequencies[i] * log_idf_list[i]} $$"
   ]
  },
  {
   "cell_type": "code",
   "execution_count": 307,
   "metadata": {},
   "outputs": [
    {
     "data": {
      "text/plain": [
       "1290"
      ]
     },
     "execution_count": 307,
     "metadata": {},
     "output_type": "execute_result"
    }
   ],
   "source": [
    "tf_idf_list = [term_frequencies_rounded[i]*log_idf_list[i] for i in range(len(term_frequencies_rounded))]\n",
    "\n",
    "len(tf_idf_list)"
   ]
  },
  {
   "cell_type": "code",
   "execution_count": 308,
   "metadata": {
    "scrolled": true
   },
   "outputs": [],
   "source": [
    "tf_idf_dict = dict(zip(iqr_words, tf_idf_list))\n"
   ]
  },
  {
   "cell_type": "code",
   "execution_count": 309,
   "metadata": {},
   "outputs": [],
   "source": [
    "tfidf_df = pd.DataFrame(tf_idf_dict.items(), columns = [\"Word\", \"TF-IDF_Score\"])"
   ]
  },
  {
   "cell_type": "code",
   "execution_count": 310,
   "metadata": {},
   "outputs": [
    {
     "data": {
      "text/html": [
       "<div>\n",
       "<style scoped>\n",
       "    .dataframe tbody tr th:only-of-type {\n",
       "        vertical-align: middle;\n",
       "    }\n",
       "\n",
       "    .dataframe tbody tr th {\n",
       "        vertical-align: top;\n",
       "    }\n",
       "\n",
       "    .dataframe thead th {\n",
       "        text-align: right;\n",
       "    }\n",
       "</style>\n",
       "<table border=\"1\" class=\"dataframe\">\n",
       "  <thead>\n",
       "    <tr style=\"text-align: right;\">\n",
       "      <th></th>\n",
       "      <th>Word</th>\n",
       "      <th>TF-IDF_Score</th>\n",
       "    </tr>\n",
       "  </thead>\n",
       "  <tbody>\n",
       "    <tr>\n",
       "      <th>6</th>\n",
       "      <td>initiativeson</td>\n",
       "      <td>0.0</td>\n",
       "    </tr>\n",
       "    <tr>\n",
       "      <th>14</th>\n",
       "      <td>individualmandate</td>\n",
       "      <td>0.0</td>\n",
       "    </tr>\n",
       "    <tr>\n",
       "      <th>17</th>\n",
       "      <td>agreementsm</td>\n",
       "      <td>0.0</td>\n",
       "    </tr>\n",
       "    <tr>\n",
       "      <th>26</th>\n",
       "      <td>domesticairlines</td>\n",
       "      <td>0.0</td>\n",
       "    </tr>\n",
       "    <tr>\n",
       "      <th>35</th>\n",
       "      <td>fluoroscent</td>\n",
       "      <td>0.0</td>\n",
       "    </tr>\n",
       "    <tr>\n",
       "      <th>...</th>\n",
       "      <td>...</td>\n",
       "      <td>...</td>\n",
       "    </tr>\n",
       "    <tr>\n",
       "      <th>1261</th>\n",
       "      <td>thruppling</td>\n",
       "      <td>0.0</td>\n",
       "    </tr>\n",
       "    <tr>\n",
       "      <th>1275</th>\n",
       "      <td>wrirting</td>\n",
       "      <td>0.0</td>\n",
       "    </tr>\n",
       "    <tr>\n",
       "      <th>1285</th>\n",
       "      <td>b’mitzvahs</td>\n",
       "      <td>0.0</td>\n",
       "    </tr>\n",
       "    <tr>\n",
       "      <th>1286</th>\n",
       "      <td>b’mitzvah</td>\n",
       "      <td>0.0</td>\n",
       "    </tr>\n",
       "    <tr>\n",
       "      <th>1287</th>\n",
       "      <td>adeventuous</td>\n",
       "      <td>0.0</td>\n",
       "    </tr>\n",
       "  </tbody>\n",
       "</table>\n",
       "<p>127 rows × 2 columns</p>\n",
       "</div>"
      ],
      "text/plain": [
       "                   Word  TF-IDF_Score\n",
       "6         initiativeson           0.0\n",
       "14    individualmandate           0.0\n",
       "17          agreementsm           0.0\n",
       "26     domesticairlines           0.0\n",
       "35          fluoroscent           0.0\n",
       "...                 ...           ...\n",
       "1261         thruppling           0.0\n",
       "1275           wrirting           0.0\n",
       "1285         b’mitzvahs           0.0\n",
       "1286          b’mitzvah           0.0\n",
       "1287        adeventuous           0.0\n",
       "\n",
       "[127 rows x 2 columns]"
      ]
     },
     "execution_count": 310,
     "metadata": {},
     "output_type": "execute_result"
    }
   ],
   "source": [
    "tfidf_df.loc[tfidf_df['TF-IDF_Score'] == 0]"
   ]
  },
  {
   "cell_type": "code",
   "execution_count": 311,
   "metadata": {},
   "outputs": [
    {
     "data": {
      "text/html": [
       "<div>\n",
       "<style scoped>\n",
       "    .dataframe tbody tr th:only-of-type {\n",
       "        vertical-align: middle;\n",
       "    }\n",
       "\n",
       "    .dataframe tbody tr th {\n",
       "        vertical-align: top;\n",
       "    }\n",
       "\n",
       "    .dataframe thead th {\n",
       "        text-align: right;\n",
       "    }\n",
       "</style>\n",
       "<table border=\"1\" class=\"dataframe\">\n",
       "  <thead>\n",
       "    <tr style=\"text-align: right;\">\n",
       "      <th></th>\n",
       "      <th>Word</th>\n",
       "      <th>TF-IDF_Score</th>\n",
       "    </tr>\n",
       "  </thead>\n",
       "  <tbody>\n",
       "    <tr>\n",
       "      <th>0</th>\n",
       "      <td>underdramatic</td>\n",
       "      <td>0.004851</td>\n",
       "    </tr>\n",
       "    <tr>\n",
       "      <th>1</th>\n",
       "      <td>hyperhysteria</td>\n",
       "      <td>0.004851</td>\n",
       "    </tr>\n",
       "    <tr>\n",
       "      <th>2</th>\n",
       "      <td>verbolect</td>\n",
       "      <td>0.010415</td>\n",
       "    </tr>\n",
       "    <tr>\n",
       "      <th>3</th>\n",
       "      <td>fluffypoos</td>\n",
       "      <td>0.005275</td>\n",
       "    </tr>\n",
       "    <tr>\n",
       "      <th>4</th>\n",
       "      <td>shaggydoodles</td>\n",
       "      <td>0.005275</td>\n",
       "    </tr>\n",
       "    <tr>\n",
       "      <th>...</th>\n",
       "      <td>...</td>\n",
       "      <td>...</td>\n",
       "    </tr>\n",
       "    <tr>\n",
       "      <th>1281</th>\n",
       "      <td>starhuggers</td>\n",
       "      <td>0.004723</td>\n",
       "    </tr>\n",
       "    <tr>\n",
       "      <th>1282</th>\n",
       "      <td>amsah</td>\n",
       "      <td>0.006534</td>\n",
       "    </tr>\n",
       "    <tr>\n",
       "      <th>1283</th>\n",
       "      <td>coxswaining</td>\n",
       "      <td>0.005094</td>\n",
       "    </tr>\n",
       "    <tr>\n",
       "      <th>1284</th>\n",
       "      <td>workkkk</td>\n",
       "      <td>0.005094</td>\n",
       "    </tr>\n",
       "    <tr>\n",
       "      <th>1288</th>\n",
       "      <td>salpingectomy</td>\n",
       "      <td>0.004464</td>\n",
       "    </tr>\n",
       "  </tbody>\n",
       "</table>\n",
       "<p>1162 rows × 2 columns</p>\n",
       "</div>"
      ],
      "text/plain": [
       "               Word  TF-IDF_Score\n",
       "0     underdramatic      0.004851\n",
       "1     hyperhysteria      0.004851\n",
       "2         verbolect      0.010415\n",
       "3        fluffypoos      0.005275\n",
       "4     shaggydoodles      0.005275\n",
       "...             ...           ...\n",
       "1281    starhuggers      0.004723\n",
       "1282          amsah      0.006534\n",
       "1283    coxswaining      0.005094\n",
       "1284        workkkk      0.005094\n",
       "1288  salpingectomy      0.004464\n",
       "\n",
       "[1162 rows x 2 columns]"
      ]
     },
     "execution_count": 311,
     "metadata": {},
     "output_type": "execute_result"
    }
   ],
   "source": [
    "tfidf_df.loc[tfidf_df['TF-IDF_Score'] != 0]"
   ]
  },
  {
   "cell_type": "code",
   "execution_count": 313,
   "metadata": {},
   "outputs": [],
   "source": [
    "tfidf_df.to_csv(\"tfidf-scores.csv\")"
   ]
  }
 ],
 "metadata": {
  "kernelspec": {
   "display_name": "Python 3",
   "language": "python",
   "name": "python3"
  },
  "language_info": {
   "codemirror_mode": {
    "name": "ipython",
    "version": 3
   },
   "file_extension": ".py",
   "mimetype": "text/x-python",
   "name": "python",
   "nbconvert_exporter": "python",
   "pygments_lexer": "ipython3",
   "version": "3.7.7"
  }
 },
 "nbformat": 4,
 "nbformat_minor": 4
}
